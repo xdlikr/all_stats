{
 "cells": [
  {
   "cell_type": "markdown",
   "metadata": {},
   "source": [
    "# Ppk vs % OOS Analysis for One-Sided Normal Distribution\n",
    "\n",
    "This notebook demonstrates the relationship between Process Performance Index (Ppk) and the percentage of Out-of-Specification (OOS) units for a one-sided normal distribution.\n",
    "\n",
    "## Theory\n",
    "\n",
    "For a one-sided specification with an upper specification limit (USL):\n",
    "- **Ppk = (USL - μ) / (3σ)** where μ is the process mean and σ is the process standard deviation\n",
    "- **% OOS = 100 × Φ((μ - USL)/σ)** where Φ is the standard normal CDF\n",
    "\n",
    "The relationship can be derived as:\n",
    "- **% OOS = 100 × Φ(-3 × Ppk)**"
   ]
  },
  {
   "cell_type": "code",
   "execution_count": null,
   "metadata": {},
   "outputs": [],
   "source": [
    "import numpy as np\n",
    "import matplotlib.pyplot as plt\n",
    "from scipy import stats\n",
    "import pandas as pd\n",
    "\n",
    "# Set up plotting parameters for better visualization\n",
    "plt.rcParams['figure.figsize'] = (12, 8)\n",
    "plt.rcParams['font.size'] = 11"
   ]
  },
  {
   "cell_type": "code",
   "execution_count": null,
   "metadata": {},
   "outputs": [],
   "source": [
    "def ppk_to_oos_percent(ppk):\n",
    "    \"\"\"\n",
    "    Convert Ppk to percentage Out-of-Specification for one-sided normal distribution.\n",
    "    \n",
    "    Parameters:\n",
    "    ppk (float or array): Process Performance Index\n",
    "    \n",
    "    Returns:\n",
    "    float or array: Percentage of units Out-of-Specification\n",
    "    \n",
    "    Formula: % OOS = 100 × Φ(-3 × Ppk)\n",
    "    where Φ is the standard normal cumulative distribution function\n",
    "    \"\"\"\n",
    "    return 100 * stats.norm.cdf(-3 * ppk)\n",
    "\n",
    "def oos_percent_to_ppk(oos_percent):\n",
    "    \"\"\"\n",
    "    Convert percentage Out-of-Specification to Ppk for one-sided normal distribution.\n",
    "    \n",
    "    Parameters:\n",
    "    oos_percent (float or array): Percentage of units Out-of-Specification\n",
    "    \n",
    "    Returns:\n",
    "    float or array: Process Performance Index\n",
    "    \n",
    "    Formula: Ppk = -Φ⁻¹(% OOS / 100) / 3\n",
    "    where Φ⁻¹ is the inverse standard normal cumulative distribution function\n",
    "    \"\"\"\n",
    "    return -stats.norm.ppf(oos_percent / 100) / 3"
   ]
  },
  {
   "cell_type": "code",
   "execution_count": null,
   "metadata": {},
   "outputs": [],
   "source": "# Generate Ppk values from 0.1 to 2.0\nppk_values = np.linspace(0.1, 2.0, 200)\n\n# Calculate corresponding % OOS values\noos_percent_values = ppk_to_oos_percent(ppk_values)\n\n# Create the main plot\nfig, (ax1, ax2) = plt.subplots(1, 2, figsize=(15, 6))\n\n# Plot 1: Ppk vs % OOS (linear scale)\nax1.plot(ppk_values, oos_percent_values, 'b-', linewidth=2, label='Ppk vs % OOS')\nax1.set_xlabel('Ppk (Process Performance Index)')\nax1.set_ylabel('% Out-of-Specification')\nax1.set_title('Ppk vs % OOS (Linear Scale)')\nax1.grid(True, alpha=0.3)\nax1.set_xlim(0.1, 2.0)\n\n# Add secondary x-axis for Sigma levels\nax1_sigma = ax1.twiny()\nax1_sigma.set_xlim(0.3, 6.0)  # Sigma levels corresponding to Ppk 0.1-2.0\nax1_sigma.set_xlabel('Sigma Level (σ)', color='purple')\nax1_sigma.tick_params(axis='x', labelcolor='purple')\n\n# Add some reference lines for common Ppk values (including 1-sigma)\nreference_ppk = [0.33, 0.67, 1.0, 1.33, 1.67]  # Added 0.33 for 1-sigma\nfor ppk_ref in reference_ppk:\n    oos_ref = ppk_to_oos_percent(ppk_ref)\n    sigma_level = ppk_ref * 3  # Convert Ppk to sigma level\n    ax1.axvline(x=ppk_ref, color='red', linestyle='--', alpha=0.5)\n    ax1.text(ppk_ref, ax1.get_ylim()[1]*0.9, f'Ppk={ppk_ref}\\n{sigma_level:.1f}σ\\n{oos_ref:.3f}%', \n             ha='center', va='top', fontsize=9, \n             bbox=dict(boxstyle='round,pad=0.3', facecolor='white', alpha=0.8))\n\n# Plot 2: Ppk vs % OOS (log scale for % OOS)\nax2.semilogy(ppk_values, oos_percent_values, 'g-', linewidth=2, label='Ppk vs % OOS (log scale)')\nax2.set_xlabel('Ppk (Process Performance Index)')\nax2.set_ylabel('% Out-of-Specification (log scale)')\nax2.set_title('Ppk vs % OOS (Log Scale for % OOS)')\nax2.grid(True, alpha=0.3)\nax2.set_xlim(0.1, 2.0)\n\n# Add secondary x-axis for Sigma levels on log plot\nax2_sigma = ax2.twiny()\nax2_sigma.set_xlim(0.3, 6.0)  # Sigma levels corresponding to Ppk 0.1-2.0\nax2_sigma.set_xlabel('Sigma Level (σ)', color='purple')\nax2_sigma.tick_params(axis='x', labelcolor='purple')\n\n# Add reference lines for log plot\nfor ppk_ref in reference_ppk:\n    oos_ref = ppk_to_oos_percent(ppk_ref)\n    sigma_level = ppk_ref * 3  # Convert Ppk to sigma level\n    ax2.axvline(x=ppk_ref, color='red', linestyle='--', alpha=0.5)\n    ax2.text(ppk_ref, oos_ref*10, f'Ppk={ppk_ref}\\n{sigma_level:.1f}σ\\n{oos_ref:.2e}%', \n             ha='center', va='bottom', fontsize=9,\n             bbox=dict(boxstyle='round,pad=0.3', facecolor='white', alpha=0.8))\n\nplt.tight_layout()\nplt.show()"
  },
  {
   "cell_type": "code",
   "execution_count": null,
   "metadata": {},
   "outputs": [
    {
     "name": "stdout",
     "output_type": "stream",
     "text": [
      "Summary Table: Ppk vs % OOS vs DPMO\n",
      "==================================================\n",
      "    Ppk      % OOS           DPMO  Sigma Level (approx)\n",
      "0  0.33  16.108706  161087.059511                  0.99\n",
      "1  0.67   2.221559   22215.594429                  2.01\n",
      "2  1.00   0.134990    1349.898032                  3.00\n",
      "3  1.33   0.003304      33.036648                  3.99\n",
      "4  1.67   0.000027       0.272150                  5.01\n",
      "5  2.00   0.000000       0.000987                  6.00\n"
     ]
    }
   ],
   "source": [
    "# Create a summary table for common Ppk values\n",
    "ppk_common = np.array([0.33, 0.67, 1.0, 1.33, 1.67, 2.0])\n",
    "oos_common = ppk_to_oos_percent(ppk_common)\n",
    "\n",
    "# Calculate defects per million opportunities (DPMO)\n",
    "dpmo = oos_common * 10000  # Convert % to DPMO\n",
    "\n",
    "summary_df = pd.DataFrame({\n",
    "    'Ppk': ppk_common,\n",
    "    '% OOS': oos_common,\n",
    "    'DPMO': dpmo,\n",
    "    'Sigma Level (approx)': ppk_common * 3  # Approximate sigma level\n",
    "})\n",
    "\n",
    "print(\"Summary Table: Ppk vs % OOS vs DPMO\")\n",
    "print(\"=\" * 50)\n",
    "print(summary_df.round(6))"
   ]
  },
  {
   "cell_type": "code",
   "execution_count": null,
   "metadata": {},
   "outputs": [
    {
     "name": "stdout",
     "output_type": "stream",
     "text": [
      "Interactive Calculation Examples:\n",
      "========================================\n",
      "Ppk =  0.5 → % OOS =   6.680720% → DPMO =   66807.20\n",
      "Ppk =  1.0 → % OOS =   0.134990% → DPMO =    1349.90\n",
      "Ppk =  1.5 → % OOS =   0.000340% → DPMO =       3.40\n",
      "Ppk =  2.0 → % OOS =   0.000000% → DPMO =       0.00\n",
      "\n",
      "Reverse calculation (% OOS to Ppk):\n",
      "----------------------------------------\n",
      "% OOS =   0.1% → Ppk =  1.030\n",
      "% OOS =   1.0% → Ppk =  0.775\n",
      "% OOS =   5.0% → Ppk =  0.548\n",
      "% OOS =  10.0% → Ppk =  0.427\n"
     ]
    }
   ],
   "source": [
    "# Interactive exploration: Calculate % OOS for user-defined Ppk\n",
    "print(\"Interactive Calculation Examples:\")\n",
    "print(\"=\" * 40)\n",
    "\n",
    "# Example calculations\n",
    "test_ppk_values = [0.5, 1.0, 1.5, 2.0]\n",
    "\n",
    "for ppk in test_ppk_values:\n",
    "    oos = ppk_to_oos_percent(ppk)\n",
    "    print(f\"Ppk = {ppk:4.1f} → % OOS = {oos:10.6f}% → DPMO = {oos*10000:10.2f}\")\n",
    "\n",
    "print(\"\\nReverse calculation (% OOS to Ppk):\")\n",
    "print(\"-\" * 40)\n",
    "\n",
    "test_oos_values = [0.1, 1.0, 5.0, 10.0]\n",
    "\n",
    "for oos in test_oos_values:\n",
    "    ppk = oos_percent_to_ppk(oos)\n",
    "    print(f\"% OOS = {oos:5.1f}% → Ppk = {ppk:6.3f}\")"
   ]
  },
  {
   "cell_type": "markdown",
   "metadata": {},
   "source": [
    "## Key Insights\n",
    "\n",
    "1. **Exponential Relationship**: The relationship between Ppk and % OOS is exponential - small improvements in Ppk lead to dramatic reductions in % OOS.\n",
    "\n",
    "2. **Industry Benchmarks**:\n",
    "   - **Ppk = 1.0**: Approximately 0.135% OOS (1,350 DPMO)\n",
    "   - **Ppk = 1.33**: Approximately 0.0063% OOS (63 DPMO) - Often considered \"adequate\"\n",
    "   - **Ppk = 1.67**: Approximately 0.000057% OOS (0.57 DPMO) - World class performance\n",
    "\n",
    "3. **Practical Application**: Use this relationship to:\n",
    "   - Set realistic quality targets\n",
    "   - Estimate defect rates from Ppk measurements\n",
    "   - Determine required process improvement for quality goals\n",
    "\n",
    "## Mathematical Foundation\n",
    "\n",
    "The mathematical relationship is based on the standard normal distribution:\n",
    "- For a process with mean μ and standard deviation σ\n",
    "- With upper specification limit USL\n",
    "- The probability of exceeding USL is Φ((μ - USL)/σ)\n",
    "- Since Ppk = (USL - μ)/(3σ), we get % OOS = 100 × Φ(-3 × Ppk)"
   ]
  }
 ],
 "metadata": {
  "kernelspec": {
   "display_name": "base",
   "language": "python",
   "name": "python3"
  },
  "language_info": {
   "codemirror_mode": {
    "name": "ipython",
    "version": 3
   },
   "file_extension": ".py",
   "mimetype": "text/x-python",
   "name": "python",
   "nbconvert_exporter": "python",
   "pygments_lexer": "ipython3",
   "version": "3.12.10"
  }
 },
 "nbformat": 4,
 "nbformat_minor": 4
}